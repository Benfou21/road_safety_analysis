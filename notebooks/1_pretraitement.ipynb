{
 "cells": [
  {
   "cell_type": "markdown",
   "id": "5974a5ff",
   "metadata": {},
   "source": [
    "# Analyse exploratoire et prétraitement des données d'accidents\n",
    "\n",
    "Ce notebook présente :\n",
    "\n",
    "- Le chargement des données brutes\n",
    "- Le nettoyage et la catégorisation\n",
    "- La sauvegarde des données prétraitées\n",
    "\n",
    "---\n"
   ]
  },
  {
   "cell_type": "code",
   "execution_count": null,
   "id": "9f637aa8",
   "metadata": {},
   "outputs": [],
   "source": [
    "import sys\n",
    "import os\n",
    "sys.path.append(os.path.abspath(os.path.join('..')))\n",
    "\n",
    "import matplotlib.pyplot as plt\n",
    "from src import preprocessing\n",
    "\n"
   ]
  },
  {
   "cell_type": "code",
   "execution_count": null,
   "id": "d474e5f3",
   "metadata": {},
   "outputs": [],
   "source": [
    "paths = {\n",
    "        \"caract\": \"data/raw/caract-2023.csv\",\n",
    "        \"lieux\": \"data/raw/lieux-2023.csv\",\n",
    "        \"vehicules\": \"data/raw/vehicules-2023.csv\",\n",
    "        \"usagers\": \"data/raw/usagers-2023.csv\"\n",
    "    }\n",
    "\n",
    "data = preprocessing.load_data(paths)\n",
    "data[\"caract\"] = preprocessing.preprocess_caract(data[\"caract\"])\n",
    "data[\"lieux\"] = preprocessing.preprocess_lieux(data[\"lieux\"])\n",
    "data[\"vehicules\"] = preprocessing.preprocess_vehicules(data[\"vehicules\"])\n",
    "data[\"usagers\"] = preprocessing.preprocess_usagers(data[\"usagers\"])\n",
    "\n",
    "preprocessing.save_clean_data(data, \"data/processed\")"
   ]
  },
  {
   "cell_type": "code",
   "execution_count": 3,
   "id": "a8f7faa0",
   "metadata": {},
   "outputs": [
    {
     "data": {
      "text/plain": [
       "Index(['Num_Acc', 'mois', 'an', 'lum', 'dep', 'agg', 'int', 'atm', 'col',\n",
       "       'lat', 'long', 'heure_categorie', 'jour_categorie', 'mois_categorie',\n",
       "       'dep_cat'],\n",
       "      dtype='object')"
      ]
     },
     "execution_count": 3,
     "metadata": {},
     "output_type": "execute_result"
    }
   ],
   "source": [
    "data[\"caract\"].columns"
   ]
  }
 ],
 "metadata": {
  "kernelspec": {
   "display_name": "my_env",
   "language": "python",
   "name": "python3"
  },
  "language_info": {
   "codemirror_mode": {
    "name": "ipython",
    "version": 3
   },
   "file_extension": ".py",
   "mimetype": "text/x-python",
   "name": "python",
   "nbconvert_exporter": "python",
   "pygments_lexer": "ipython3",
   "version": "3.11.3"
  }
 },
 "nbformat": 4,
 "nbformat_minor": 5
}
